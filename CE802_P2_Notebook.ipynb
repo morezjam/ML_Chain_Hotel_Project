{
 "cells": [
  {
   "cell_type": "markdown",
   "metadata": {},
   "source": [
    "### Part A"
   ]
  },
  {
   "cell_type": "code",
   "execution_count": 31,
   "metadata": {},
   "outputs": [],
   "source": [
    "# HERE YOU WILL WRITE CODE TO TEST A NUMBER OF PREDICTORS\n",
    "# AND FINALLY CHOOSE AND TRAIN THE PREDICTOR THAT YOU WILL BE USING FOR PART B\n",
    "# importing modules\n",
    "import numpy as np\n",
    "import pandas as pd\n",
    "import matplotlib.pyplot as plt\n",
    "import seaborn as sn\n",
    "import graphviz\n",
    "from sklearn import tree\n",
    "from sklearn import svm\n",
    "from sklearn.linear_model import LogisticRegression\n",
    "from sklearn.naive_bayes import GaussianNB\n",
    "from sklearn import preprocessing\n",
    "from sklearn.model_selection import KFold\n",
    "from sklearn.model_selection import GridSearchCV\n",
    "from sklearn.metrics import confusion_matrix\n",
    "from sklearn.metrics import accuracy_score"
   ]
  },
  {
   "cell_type": "code",
   "execution_count": 32,
   "metadata": {},
   "outputs": [
    {
     "data": {
      "text/html": [
       "<div>\n",
       "<style scoped>\n",
       "    .dataframe tbody tr th:only-of-type {\n",
       "        vertical-align: middle;\n",
       "    }\n",
       "\n",
       "    .dataframe tbody tr th {\n",
       "        vertical-align: top;\n",
       "    }\n",
       "\n",
       "    .dataframe thead th {\n",
       "        text-align: right;\n",
       "    }\n",
       "</style>\n",
       "<table border=\"1\" class=\"dataframe\">\n",
       "  <thead>\n",
       "    <tr style=\"text-align: right;\">\n",
       "      <th></th>\n",
       "      <th>F1</th>\n",
       "      <th>F2</th>\n",
       "      <th>F3</th>\n",
       "      <th>F4</th>\n",
       "      <th>F5</th>\n",
       "      <th>F6</th>\n",
       "      <th>F7</th>\n",
       "      <th>F8</th>\n",
       "      <th>F9</th>\n",
       "      <th>F10</th>\n",
       "      <th>...</th>\n",
       "      <th>F13</th>\n",
       "      <th>F14</th>\n",
       "      <th>F15</th>\n",
       "      <th>F16</th>\n",
       "      <th>F17</th>\n",
       "      <th>F18</th>\n",
       "      <th>F19</th>\n",
       "      <th>F20</th>\n",
       "      <th>F21</th>\n",
       "      <th>Class</th>\n",
       "    </tr>\n",
       "  </thead>\n",
       "  <tbody>\n",
       "    <tr>\n",
       "      <th>0</th>\n",
       "      <td>-0.123210</td>\n",
       "      <td>2577.32</td>\n",
       "      <td>2183.52</td>\n",
       "      <td>7747.32</td>\n",
       "      <td>2.16</td>\n",
       "      <td>9693.21</td>\n",
       "      <td>-2.2498</td>\n",
       "      <td>-1381.98</td>\n",
       "      <td>3033.55</td>\n",
       "      <td>53.796</td>\n",
       "      <td>...</td>\n",
       "      <td>6.7860</td>\n",
       "      <td>1</td>\n",
       "      <td>-3.9290</td>\n",
       "      <td>-0.8095</td>\n",
       "      <td>3.5800</td>\n",
       "      <td>-5.9384</td>\n",
       "      <td>-9.3420</td>\n",
       "      <td>1</td>\n",
       "      <td>NaN</td>\n",
       "      <td>1</td>\n",
       "    </tr>\n",
       "    <tr>\n",
       "      <th>1</th>\n",
       "      <td>-2.064600</td>\n",
       "      <td>1200.12</td>\n",
       "      <td>1654.74</td>\n",
       "      <td>6027.72</td>\n",
       "      <td>2.16</td>\n",
       "      <td>9391.26</td>\n",
       "      <td>-2.7420</td>\n",
       "      <td>-1336.20</td>\n",
       "      <td>2081.35</td>\n",
       "      <td>33.514</td>\n",
       "      <td>...</td>\n",
       "      <td>5.5240</td>\n",
       "      <td>0</td>\n",
       "      <td>-1.6609</td>\n",
       "      <td>-2.3020</td>\n",
       "      <td>3.8880</td>\n",
       "      <td>-6.5640</td>\n",
       "      <td>-6.3806</td>\n",
       "      <td>1</td>\n",
       "      <td>NaN</td>\n",
       "      <td>0</td>\n",
       "    </tr>\n",
       "    <tr>\n",
       "      <th>2</th>\n",
       "      <td>-0.083748</td>\n",
       "      <td>2769.35</td>\n",
       "      <td>2661.42</td>\n",
       "      <td>7798.66</td>\n",
       "      <td>2.16</td>\n",
       "      <td>9296.28</td>\n",
       "      <td>-3.2130</td>\n",
       "      <td>-1531.16</td>\n",
       "      <td>3397.15</td>\n",
       "      <td>39.430</td>\n",
       "      <td>...</td>\n",
       "      <td>10.0870</td>\n",
       "      <td>0</td>\n",
       "      <td>-2.5100</td>\n",
       "      <td>-2.8190</td>\n",
       "      <td>2.1606</td>\n",
       "      <td>-5.2340</td>\n",
       "      <td>-9.6780</td>\n",
       "      <td>0</td>\n",
       "      <td>NaN</td>\n",
       "      <td>0</td>\n",
       "    </tr>\n",
       "    <tr>\n",
       "      <th>3</th>\n",
       "      <td>-2.808300</td>\n",
       "      <td>3161.52</td>\n",
       "      <td>2199.12</td>\n",
       "      <td>8369.32</td>\n",
       "      <td>5.16</td>\n",
       "      <td>7990.71</td>\n",
       "      <td>-2.2703</td>\n",
       "      <td>-1397.03</td>\n",
       "      <td>3289.99</td>\n",
       "      <td>42.012</td>\n",
       "      <td>...</td>\n",
       "      <td>15.5400</td>\n",
       "      <td>1</td>\n",
       "      <td>-2.2555</td>\n",
       "      <td>-0.9770</td>\n",
       "      <td>8.2160</td>\n",
       "      <td>-5.8166</td>\n",
       "      <td>-6.1512</td>\n",
       "      <td>0</td>\n",
       "      <td>42.06</td>\n",
       "      <td>1</td>\n",
       "    </tr>\n",
       "    <tr>\n",
       "      <th>4</th>\n",
       "      <td>-0.445800</td>\n",
       "      <td>2707.42</td>\n",
       "      <td>2083.62</td>\n",
       "      <td>9054.72</td>\n",
       "      <td>5.16</td>\n",
       "      <td>8691.81</td>\n",
       "      <td>-3.7310</td>\n",
       "      <td>-804.04</td>\n",
       "      <td>1903.35</td>\n",
       "      <td>43.172</td>\n",
       "      <td>...</td>\n",
       "      <td>4.5188</td>\n",
       "      <td>0</td>\n",
       "      <td>-1.7843</td>\n",
       "      <td>-1.3690</td>\n",
       "      <td>0.7562</td>\n",
       "      <td>-6.4060</td>\n",
       "      <td>-9.5320</td>\n",
       "      <td>0</td>\n",
       "      <td>NaN</td>\n",
       "      <td>1</td>\n",
       "    </tr>\n",
       "  </tbody>\n",
       "</table>\n",
       "<p>5 rows × 22 columns</p>\n",
       "</div>"
      ],
      "text/plain": [
       "         F1       F2       F3       F4    F5       F6      F7       F8  \\\n",
       "0 -0.123210  2577.32  2183.52  7747.32  2.16  9693.21 -2.2498 -1381.98   \n",
       "1 -2.064600  1200.12  1654.74  6027.72  2.16  9391.26 -2.7420 -1336.20   \n",
       "2 -0.083748  2769.35  2661.42  7798.66  2.16  9296.28 -3.2130 -1531.16   \n",
       "3 -2.808300  3161.52  2199.12  8369.32  5.16  7990.71 -2.2703 -1397.03   \n",
       "4 -0.445800  2707.42  2083.62  9054.72  5.16  8691.81 -3.7310  -804.04   \n",
       "\n",
       "        F9     F10  ...      F13  F14     F15     F16     F17     F18     F19  \\\n",
       "0  3033.55  53.796  ...   6.7860    1 -3.9290 -0.8095  3.5800 -5.9384 -9.3420   \n",
       "1  2081.35  33.514  ...   5.5240    0 -1.6609 -2.3020  3.8880 -6.5640 -6.3806   \n",
       "2  3397.15  39.430  ...  10.0870    0 -2.5100 -2.8190  2.1606 -5.2340 -9.6780   \n",
       "3  3289.99  42.012  ...  15.5400    1 -2.2555 -0.9770  8.2160 -5.8166 -6.1512   \n",
       "4  1903.35  43.172  ...   4.5188    0 -1.7843 -1.3690  0.7562 -6.4060 -9.5320   \n",
       "\n",
       "   F20    F21  Class  \n",
       "0    1    NaN      1  \n",
       "1    1    NaN      0  \n",
       "2    0    NaN      0  \n",
       "3    0  42.06      1  \n",
       "4    0    NaN      1  \n",
       "\n",
       "[5 rows x 22 columns]"
      ]
     },
     "execution_count": 32,
     "metadata": {},
     "output_type": "execute_result"
    }
   ],
   "source": [
    "data_P2 = pd.read_csv(\"CE802_P2_Data.csv\")\n",
    "data_P2.replace({False: 0, True: 1}, inplace=True) #replacing boolean values with 0 and 1\n",
    "data_P2.head()"
   ]
  },
  {
   "cell_type": "code",
   "execution_count": 33,
   "metadata": {},
   "outputs": [
    {
     "data": {
      "image/png": "[encoded data removed]",
      "text/plain": [
       "<Figure size 720x720 with 2 Axes>"
      ]
     },
     "metadata": {
      "needs_background": "light"
     },
     "output_type": "display_data"
    }
   ],
   "source": [
    "# describing correlation of attributes using heatmap\n",
    "fig, ax = plt.subplots(figsize=(10,10))\n",
    "sn.heatmap(data_P2.corr(), linewidths=.5, ax=ax)\n",
    "plt.show()"
   ]
  },
  {
   "cell_type": "markdown",
   "metadata": {},
   "source": [
    "### Finding number of null values for each column"
   ]
  },
  {
   "cell_type": "code",
   "execution_count": 34,
   "metadata": {},
   "outputs": [],
   "source": [
    "def is_there_null(df):\n",
    "    for c in df.columns:\n",
    "        if df[c].isnull().values.any():\n",
    "            print(\"Attribute {} has {} number of null values\".format(c,df[c].isna().sum()))\n",
    "            return True\n",
    "    return False"
   ]
  },
  {
   "cell_type": "markdown",
   "metadata": {},
   "source": [
    "### Descrpitve statistics measures for the null contained column/s before imputation"
   ]
  },
  {
   "cell_type": "code",
   "execution_count": 35,
   "metadata": {},
   "outputs": [
    {
     "name": "stdout",
     "output_type": "stream",
     "text": [
      "Attribute F21 has 500 number of null values\n"
     ]
    },
    {
     "data": {
      "text/plain": [
       "count    500.000000\n",
       "mean      35.050560\n",
       "std        3.188244\n",
       "min       24.930000\n",
       "25%       32.850000\n",
       "50%       34.905000\n",
       "75%       37.275000\n",
       "max       45.360000\n",
       "Name: F21, dtype: float64"
      ]
     },
     "execution_count": 35,
     "metadata": {},
     "output_type": "execute_result"
    }
   ],
   "source": [
    "is_there_null(data_P2)\n",
    "data_P2.F21.describe()"
   ]
  },
  {
   "cell_type": "markdown",
   "metadata": {},
   "source": [
    "### It seems that linear interpolation method does not fill all the null values, in this case for the remained null values (eg. 3), I try to replace their coulmn mean values for them."
   ]
  },
  {
   "cell_type": "code",
   "execution_count": 36,
   "metadata": {},
   "outputs": [],
   "source": [
    "def imputation(df):\n",
    "    if is_there_null(df):\n",
    "        df = df.interpolate(method = \"linear\", limit_direction = \"forward\")\n",
    "        if is_there_null(df):\n",
    "            df.fillna(df.mean(), inplace = True)\n",
    "        print(\"There is no null value anymore\")\n",
    "        return df\n",
    "    else:\n",
    "        return \"There is no need to do imputation\""
   ]
  },
  {
   "cell_type": "code",
   "execution_count": 37,
   "metadata": {},
   "outputs": [],
   "source": [
    "def drop_null_values(df):\n",
    "    return df.dropna(inplace = False)"
   ]
  },
  {
   "cell_type": "markdown",
   "metadata": {},
   "source": [
    "### Checking descriptive statistics measures for the null contained column/s after imputation"
   ]
  },
  {
   "cell_type": "code",
   "execution_count": 38,
   "metadata": {},
   "outputs": [
    {
     "name": "stdout",
     "output_type": "stream",
     "text": [
      "Attribute F21 has 500 number of null values\n",
      "Attribute F21 has 3 number of null values\n",
      "There is no null value anymore\n"
     ]
    },
    {
     "data": {
      "text/plain": [
       "count    1000.000000\n",
       "mean       35.174188\n",
       "std         2.813204\n",
       "min        24.930000\n",
       "25%        33.257500\n",
       "50%        35.155000\n",
       "75%        37.125000\n",
       "max        45.360000\n",
       "Name: F21, dtype: float64"
      ]
     },
     "execution_count": 38,
     "metadata": {},
     "output_type": "execute_result"
    }
   ],
   "source": [
    "data_P2_dropped = drop_null_values(data_P2)\n",
    "data_P2 = imputation(data_P2)\n",
    "data_P2.F21.describe()"
   ]
  },
  {
   "cell_type": "markdown",
   "metadata": {},
   "source": [
    "### Checking descriptive statistics measures for the null-dropped dataframe"
   ]
  },
  {
   "cell_type": "code",
   "execution_count": 39,
   "metadata": {},
   "outputs": [
    {
     "data": {
      "text/html": [
       "<div>\n",
       "<style scoped>\n",
       "    .dataframe tbody tr th:only-of-type {\n",
       "        vertical-align: middle;\n",
       "    }\n",
       "\n",
       "    .dataframe tbody tr th {\n",
       "        vertical-align: top;\n",
       "    }\n",
       "\n",
       "    .dataframe thead th {\n",
       "        text-align: right;\n",
       "    }\n",
       "</style>\n",
       "<table border=\"1\" class=\"dataframe\">\n",
       "  <thead>\n",
       "    <tr style=\"text-align: right;\">\n",
       "      <th></th>\n",
       "      <th>F1</th>\n",
       "      <th>F2</th>\n",
       "      <th>F3</th>\n",
       "      <th>F4</th>\n",
       "      <th>F5</th>\n",
       "      <th>F6</th>\n",
       "      <th>F7</th>\n",
       "      <th>F8</th>\n",
       "      <th>F9</th>\n",
       "      <th>F10</th>\n",
       "      <th>...</th>\n",
       "      <th>F13</th>\n",
       "      <th>F14</th>\n",
       "      <th>F15</th>\n",
       "      <th>F16</th>\n",
       "      <th>F17</th>\n",
       "      <th>F18</th>\n",
       "      <th>F19</th>\n",
       "      <th>F20</th>\n",
       "      <th>F21</th>\n",
       "      <th>Class</th>\n",
       "    </tr>\n",
       "  </thead>\n",
       "  <tbody>\n",
       "    <tr>\n",
       "      <th>count</th>\n",
       "      <td>500.000000</td>\n",
       "      <td>500.000000</td>\n",
       "      <td>500.000000</td>\n",
       "      <td>500.000000</td>\n",
       "      <td>500.000000</td>\n",
       "      <td>500.000000</td>\n",
       "      <td>500.000000</td>\n",
       "      <td>500.000000</td>\n",
       "      <td>500.000000</td>\n",
       "      <td>500.000000</td>\n",
       "      <td>...</td>\n",
       "      <td>500.000000</td>\n",
       "      <td>500.000000</td>\n",
       "      <td>500.000000</td>\n",
       "      <td>500.000000</td>\n",
       "      <td>500.000000</td>\n",
       "      <td>500.000000</td>\n",
       "      <td>500.000000</td>\n",
       "      <td>500.000000</td>\n",
       "      <td>500.000000</td>\n",
       "      <td>500.000000</td>\n",
       "    </tr>\n",
       "    <tr>\n",
       "      <th>mean</th>\n",
       "      <td>-1.536101</td>\n",
       "      <td>2490.874249</td>\n",
       "      <td>2127.981506</td>\n",
       "      <td>8432.020964</td>\n",
       "      <td>3.648000</td>\n",
       "      <td>8601.422092</td>\n",
       "      <td>-2.349124</td>\n",
       "      <td>-1271.697345</td>\n",
       "      <td>3223.829824</td>\n",
       "      <td>36.618555</td>\n",
       "      <td>...</td>\n",
       "      <td>14.503379</td>\n",
       "      <td>0.484000</td>\n",
       "      <td>-2.316238</td>\n",
       "      <td>-1.376661</td>\n",
       "      <td>2.408777</td>\n",
       "      <td>-6.203729</td>\n",
       "      <td>-7.548136</td>\n",
       "      <td>0.510000</td>\n",
       "      <td>35.050560</td>\n",
       "      <td>0.502000</td>\n",
       "    </tr>\n",
       "    <tr>\n",
       "      <th>std</th>\n",
       "      <td>2.067428</td>\n",
       "      <td>782.593081</td>\n",
       "      <td>1527.993185</td>\n",
       "      <td>1837.001971</td>\n",
       "      <td>1.501454</td>\n",
       "      <td>2112.516007</td>\n",
       "      <td>0.630371</td>\n",
       "      <td>433.900868</td>\n",
       "      <td>472.311274</td>\n",
       "      <td>9.824823</td>\n",
       "      <td>...</td>\n",
       "      <td>10.672447</td>\n",
       "      <td>0.500244</td>\n",
       "      <td>0.887085</td>\n",
       "      <td>0.934030</td>\n",
       "      <td>1.847123</td>\n",
       "      <td>1.631964</td>\n",
       "      <td>1.782316</td>\n",
       "      <td>0.500401</td>\n",
       "      <td>3.188244</td>\n",
       "      <td>0.500497</td>\n",
       "    </tr>\n",
       "    <tr>\n",
       "      <th>min</th>\n",
       "      <td>-13.587000</td>\n",
       "      <td>-2309.880000</td>\n",
       "      <td>-1690.080000</td>\n",
       "      <td>1078.920000</td>\n",
       "      <td>2.160000</td>\n",
       "      <td>-5873.790000</td>\n",
       "      <td>-5.111000</td>\n",
       "      <td>-4531.040000</td>\n",
       "      <td>630.350000</td>\n",
       "      <td>6.440000</td>\n",
       "      <td>...</td>\n",
       "      <td>4.237677</td>\n",
       "      <td>0.000000</td>\n",
       "      <td>-5.675000</td>\n",
       "      <td>-4.955000</td>\n",
       "      <td>0.344240</td>\n",
       "      <td>-13.194000</td>\n",
       "      <td>-14.534000</td>\n",
       "      <td>0.000000</td>\n",
       "      <td>24.930000</td>\n",
       "      <td>0.000000</td>\n",
       "    </tr>\n",
       "    <tr>\n",
       "      <th>25%</th>\n",
       "      <td>-1.947300</td>\n",
       "      <td>2422.995000</td>\n",
       "      <td>1504.095000</td>\n",
       "      <td>7651.365000</td>\n",
       "      <td>2.160000</td>\n",
       "      <td>8327.235000</td>\n",
       "      <td>-2.708250</td>\n",
       "      <td>-1421.748000</td>\n",
       "      <td>3070.600000</td>\n",
       "      <td>30.054000</td>\n",
       "      <td>...</td>\n",
       "      <td>7.233250</td>\n",
       "      <td>0.000000</td>\n",
       "      <td>-2.790750</td>\n",
       "      <td>-1.781000</td>\n",
       "      <td>0.982050</td>\n",
       "      <td>-6.950000</td>\n",
       "      <td>-8.201000</td>\n",
       "      <td>0.000000</td>\n",
       "      <td>32.850000</td>\n",
       "      <td>0.000000</td>\n",
       "    </tr>\n",
       "    <tr>\n",
       "      <th>50%</th>\n",
       "      <td>-0.720900</td>\n",
       "      <td>2704.670000</td>\n",
       "      <td>1770.240000</td>\n",
       "      <td>8047.520000</td>\n",
       "      <td>2.160000</td>\n",
       "      <td>9015.165000</td>\n",
       "      <td>-2.211000</td>\n",
       "      <td>-1356.440000</td>\n",
       "      <td>3211.581500</td>\n",
       "      <td>36.706600</td>\n",
       "      <td>...</td>\n",
       "      <td>11.255500</td>\n",
       "      <td>0.000000</td>\n",
       "      <td>-2.005200</td>\n",
       "      <td>-1.079850</td>\n",
       "      <td>1.891200</td>\n",
       "      <td>-5.729400</td>\n",
       "      <td>-7.013900</td>\n",
       "      <td>1.000000</td>\n",
       "      <td>34.905000</td>\n",
       "      <td>1.000000</td>\n",
       "    </tr>\n",
       "    <tr>\n",
       "      <th>75%</th>\n",
       "      <td>-0.209430</td>\n",
       "      <td>2836.414000</td>\n",
       "      <td>2199.420000</td>\n",
       "      <td>8691.520000</td>\n",
       "      <td>5.160000</td>\n",
       "      <td>9416.055000</td>\n",
       "      <td>-1.851575</td>\n",
       "      <td>-1220.125000</td>\n",
       "      <td>3332.900000</td>\n",
       "      <td>42.770000</td>\n",
       "      <td>...</td>\n",
       "      <td>18.027500</td>\n",
       "      <td>1.000000</td>\n",
       "      <td>-1.663950</td>\n",
       "      <td>-0.666550</td>\n",
       "      <td>3.164000</td>\n",
       "      <td>-4.958000</td>\n",
       "      <td>-6.221050</td>\n",
       "      <td>1.000000</td>\n",
       "      <td>37.275000</td>\n",
       "      <td>1.000000</td>\n",
       "    </tr>\n",
       "    <tr>\n",
       "      <th>max</th>\n",
       "      <td>-0.060016</td>\n",
       "      <td>4156.120000</td>\n",
       "      <td>18814.920000</td>\n",
       "      <td>20418.920000</td>\n",
       "      <td>5.160000</td>\n",
       "      <td>15432.210000</td>\n",
       "      <td>-1.570592</td>\n",
       "      <td>1284.960000</td>\n",
       "      <td>6685.350000</td>\n",
       "      <td>75.180000</td>\n",
       "      <td>...</td>\n",
       "      <td>86.010000</td>\n",
       "      <td>1.000000</td>\n",
       "      <td>-1.342710</td>\n",
       "      <td>-0.402990</td>\n",
       "      <td>9.106000</td>\n",
       "      <td>-4.425460</td>\n",
       "      <td>-5.686740</td>\n",
       "      <td>1.000000</td>\n",
       "      <td>45.360000</td>\n",
       "      <td>1.000000</td>\n",
       "    </tr>\n",
       "  </tbody>\n",
       "</table>\n",
       "<p>8 rows × 22 columns</p>\n",
       "</div>"
      ],
      "text/plain": [
       "               F1           F2            F3            F4          F5  \\\n",
       "count  500.000000   500.000000    500.000000    500.000000  500.000000   \n",
       "mean    -1.536101  2490.874249   2127.981506   8432.020964    3.648000   \n",
       "std      2.067428   782.593081   1527.993185   1837.001971    1.501454   \n",
       "min    -13.587000 -2309.880000  -1690.080000   1078.920000    2.160000   \n",
       "25%     -1.947300  2422.995000   1504.095000   7651.365000    2.160000   \n",
       "50%     -0.720900  2704.670000   1770.240000   8047.520000    2.160000   \n",
       "75%     -0.209430  2836.414000   2199.420000   8691.520000    5.160000   \n",
       "max     -0.060016  4156.120000  18814.920000  20418.920000    5.160000   \n",
       "\n",
       "                 F6          F7           F8           F9         F10  ...  \\\n",
       "count    500.000000  500.000000   500.000000   500.000000  500.000000  ...   \n",
       "mean    8601.422092   -2.349124 -1271.697345  3223.829824   36.618555  ...   \n",
       "std     2112.516007    0.630371   433.900868   472.311274    9.824823  ...   \n",
       "min    -5873.790000   -5.111000 -4531.040000   630.350000    6.440000  ...   \n",
       "25%     8327.235000   -2.708250 -1421.748000  3070.600000   30.054000  ...   \n",
       "50%     9015.165000   -2.211000 -1356.440000  3211.581500   36.706600  ...   \n",
       "75%     9416.055000   -1.851575 -1220.125000  3332.900000   42.770000  ...   \n",
       "max    15432.210000   -1.570592  1284.960000  6685.350000   75.180000  ...   \n",
       "\n",
       "              F13         F14         F15         F16         F17         F18  \\\n",
       "count  500.000000  500.000000  500.000000  500.000000  500.000000  500.000000   \n",
       "mean    14.503379    0.484000   -2.316238   -1.376661    2.408777   -6.203729   \n",
       "std     10.672447    0.500244    0.887085    0.934030    1.847123    1.631964   \n",
       "min      4.237677    0.000000   -5.675000   -4.955000    0.344240  -13.194000   \n",
       "25%      7.233250    0.000000   -2.790750   -1.781000    0.982050   -6.950000   \n",
       "50%     11.255500    0.000000   -2.005200   -1.079850    1.891200   -5.729400   \n",
       "75%     18.027500    1.000000   -1.663950   -0.666550    3.164000   -4.958000   \n",
       "max     86.010000    1.000000   -1.342710   -0.402990    9.106000   -4.425460   \n",
       "\n",
       "              F19         F20         F21       Class  \n",
       "count  500.000000  500.000000  500.000000  500.000000  \n",
       "mean    -7.548136    0.510000   35.050560    0.502000  \n",
       "std      1.782316    0.500401    3.188244    0.500497  \n",
       "min    -14.534000    0.000000   24.930000    0.000000  \n",
       "25%     -8.201000    0.000000   32.850000    0.000000  \n",
       "50%     -7.013900    1.000000   34.905000    1.000000  \n",
       "75%     -6.221050    1.000000   37.275000    1.000000  \n",
       "max     -5.686740    1.000000   45.360000    1.000000  \n",
       "\n",
       "[8 rows x 22 columns]"
      ]
     },
     "execution_count": 39,
     "metadata": {},
     "output_type": "execute_result"
    }
   ],
   "source": [
    "data_P2_dropped.describe()"
   ]
  },
  {
   "cell_type": "code",
   "execution_count": 40,
   "metadata": {},
   "outputs": [
    {
     "data": {
      "image/png": "[encoded data removed]",
      "text/plain": [
       "<Figure size 720x720 with 2 Axes>"
      ]
     },
     "metadata": {
      "needs_background": "light"
     },
     "output_type": "display_data"
    }
   ],
   "source": [
    "# describing correlation of attributes using heatmap for the null-dropped dataframe\n",
    "fig, ax = plt.subplots(figsize=(10,10))\n",
    "sn.heatmap(data_P2_dropped.corr(), linewidths=.5, ax=ax)\n",
    "plt.show()"
   ]
  },
  {
   "cell_type": "markdown",
   "metadata": {},
   "source": [
    "### Splitting the target data from the rest of data to be used for the next stages of the project"
   ]
  },
  {
   "cell_type": "code",
   "execution_count": 41,
   "metadata": {},
   "outputs": [],
   "source": [
    "def target_splitter(data, target):\n",
    "    X = data.loc[:, data.columns != target].to_numpy()\n",
    "    y = data.loc[:, data.columns == target].to_numpy()\n",
    "    return X, y"
   ]
  },
  {
   "cell_type": "markdown",
   "metadata": {},
   "source": [
    "### defining a function to perform nested cross validation to train a decision tree classifier"
   ]
  },
  {
   "cell_type": "code",
   "execution_count": 42,
   "metadata": {},
   "outputs": [],
   "source": [
    "def decision_tree_fit(data):\n",
    "    X, y = target_splitter(data, \"Class\")\n",
    "    cv_out = KFold(n_splits = 10, shuffle = True, random_state = 1)\n",
    "    out_results = []\n",
    "    for train_index, test_index in cv_out.split(X):\n",
    "        X_train, X_test = X[train_index], X[test_index]\n",
    "        y_train, y_test = y[train_index], y[test_index]\n",
    "        cv_in = KFold(n_splits = 3, shuffle=True, random_state = 1)\n",
    "        clf = tree.DecisionTreeClassifier(random_state = 1)\n",
    "        max_depths = np.arange(1,10)\n",
    "        criterion = np.array([\"gini\",\"entropy\"])\n",
    "        splitter = np.array([\"best\", \"random\"])\n",
    "        paras = {\"max_depth\": max_depths, \"criterion\":criterion, \"splitter\": splitter}\n",
    "        search = GridSearchCV(estimator = clf, param_grid = paras, n_jobs = -1)\n",
    "        result = search.fit(X_train, y_train)\n",
    "        clf_best = result.best_estimator_\n",
    "        y_pred = result.predict(X_test)\n",
    "        acc = accuracy_score(y_test, y_pred)\n",
    "        out_results.append(acc)\n",
    "        print('>acc=%.3f, est=%.3f, cfg=%s' % (acc, result.best_score_, result.best_params_))\n",
    "    print('Accuracy Mean (Std): %.3f (%.3f)' % (np.mean(out_results), np.std(out_results)))\n",
    "\n",
    "    return clf_best, y_test, y_pred"
   ]
  },
  {
   "cell_type": "markdown",
   "metadata": {},
   "source": [
    "### defining a function to perform nested cross validation to train a linear svm model"
   ]
  },
  {
   "cell_type": "code",
   "execution_count": 43,
   "metadata": {},
   "outputs": [],
   "source": [
    "def linear_svm_fit(data):\n",
    "    X, y = target_splitter(data, \"Class\")\n",
    "    cv_out = KFold(n_splits = 10, shuffle = True, random_state = 1)\n",
    "    out_results = []\n",
    "    for train_index, test_index in cv_out.split(X):\n",
    "        X_train, X_test = X[train_index], X[test_index]\n",
    "        y_train, y_test = y[train_index], y[test_index]\n",
    "        cv_in = KFold(n_splits = 3, shuffle=True, random_state = 1)\n",
    "        clf = svm.SVC(kernel = \"linear\")\n",
    "        Cs = np.logspace(-1, 3, 5)  \n",
    "        Gs = np.logspace(-7, -0, 2)\n",
    "        search = GridSearchCV(estimator=clf, param_grid={\"C\": Cs, \"gamma\": Gs}, n_jobs=-1)\n",
    "        result = search.fit(X_train, y_train.ravel())\n",
    "        clf_best = result.best_estimator_\n",
    "        y_pred = clf_best.predict(X_test)\n",
    "        acc = accuracy_score(y_test, y_pred)\n",
    "        out_results.append(acc)\n",
    "        print('>acc=%.3f, est=%.3f, cfg=%s' % (acc, result.best_score_, result.best_params_))\n",
    "    print('Accuracy Mean (Std): %.3f (%.3f)' % (np.mean(out_results), np.std(out_results)))\n",
    "\n",
    "    return clf_best, y_test, y_pred"
   ]
  },
  {
   "cell_type": "markdown",
   "metadata": {},
   "source": [
    "### defining a function to perform nested cross validation to train a logistic regression model"
   ]
  },
  {
   "cell_type": "code",
   "execution_count": 44,
   "metadata": {},
   "outputs": [],
   "source": [
    "def logistic_regression_fit(data):\n",
    "    X, y = target_splitter(data, \"Class\")\n",
    "    clf = LogisticRegression()\n",
    "    cv_out = KFold(n_splits = 10, shuffle = True, random_state = 1)\n",
    "    out_results = []\n",
    "    for train_index, test_index in cv_out.split(X):\n",
    "        X_train, X_test = X[train_index], X[test_index]\n",
    "        y_train, y_test = y[train_index], y[test_index]\n",
    "        cv_in = KFold(n_splits = 3, shuffle=True, random_state = 1)\n",
    "        paras = {\"penalty\" : ['l1', 'l2', 'elasticnet', 'none'],\n",
    "        \"C\" : np.logspace(-4, 4, 20),\n",
    "        \"solver\" : ['lbfgs', 'liblinear', 'sag', 'saga']}\n",
    "        search = GridSearchCV(estimator=clf, param_grid=paras, n_jobs=-1)\n",
    "        result = search.fit(X_train, y_train.ravel())\n",
    "        clf_best = result.best_estimator_\n",
    "        y_pred = clf_best.predict(X_test)\n",
    "        acc = accuracy_score(y_test, y_pred)\n",
    "        out_results.append(acc)\n",
    "        print('>acc=%.3f, est=%.3f, cfg=%s' % (acc, result.best_score_, result.best_params_))\n",
    "    print('Accuracy Mean (Std): %.3f (%.3f)' % (np.mean(out_results), np.std(out_results)))\n",
    "    return clf_best, y_test, y_pred"
   ]
  },
  {
   "cell_type": "markdown",
   "metadata": {},
   "source": [
    "### defining a function to perform nested cross validation to train a gaussian naive bayes model"
   ]
  },
  {
   "cell_type": "code",
   "execution_count": 45,
   "metadata": {},
   "outputs": [],
   "source": [
    "def GaussianNb(data):\n",
    "    X, y = target_splitter(data, \"Class\")\n",
    "    clf = GaussianNB()\n",
    "    cv_out = KFold(n_splits = 10, shuffle = True, random_state = 1)\n",
    "    out_results = []\n",
    "    for train_index, test_index in cv_out.split(X):\n",
    "        X_train, X_test = X[train_index], X[test_index]\n",
    "        y_train, y_test = y[train_index], y[test_index]\n",
    "        cv_in = KFold(n_splits = 3, shuffle = True, random_state = 1)\n",
    "        pars = {\"var_smoothing\": np.linspace(0,100, 200)}\n",
    "        search = GridSearchCV(estimator = clf, param_grid = pars)\n",
    "        result = search.fit(X_train, y_train.ravel())\n",
    "        clf_best = result.best_estimator_\n",
    "        y_pred = clf_best.predict(X_test)\n",
    "        acc = accuracy_score(y_test, y_pred)\n",
    "        out_results.append(acc)\n",
    "        print('>acc=%.3f, est=%.3f, cfg=%s' % (acc, result.best_score_, result.best_params_))\n",
    "    print('Accuracy Mean (Std): %.3f (%.3f)' % (np.mean(out_results), np.std(out_results)))\n",
    "    return clf_best, y_test, y_pred"
   ]
  },
  {
   "cell_type": "code",
   "execution_count": 46,
   "metadata": {},
   "outputs": [
    {
     "name": "stdout",
     "output_type": "stream",
     "text": [
      ">acc=0.780, est=0.728, cfg={'C': 0.004832930238571752, 'penalty': 'l1', 'solver': 'liblinear'}\n",
      ">acc=0.640, est=0.739, cfg={'C': 0.0006951927961775605, 'penalty': 'l2', 'solver': 'liblinear'}\n"
     ]
    },
    {
     "name": "stderr",
     "output_type": "stream",
     "text": [
      "C:\\Users\\mrjmf\\anaconda3\\lib\\site-packages\\sklearn\\svm\\_base.py:976: ConvergenceWarning: Liblinear failed to converge, increase the number of iterations.\n",
      "  warnings.warn(\"Liblinear failed to converge, increase \"\n"
     ]
    },
    {
     "name": "stdout",
     "output_type": "stream",
     "text": [
      ">acc=0.710, est=0.722, cfg={'C': 78.47599703514607, 'penalty': 'l1', 'solver': 'liblinear'}\n",
      ">acc=0.720, est=0.724, cfg={'C': 0.0006951927961775605, 'penalty': 'l2', 'solver': 'liblinear'}\n",
      ">acc=0.760, est=0.719, cfg={'C': 0.00026366508987303583, 'penalty': 'l2', 'solver': 'liblinear'}\n",
      ">acc=0.740, est=0.721, cfg={'C': 0.004832930238571752, 'penalty': 'l1', 'solver': 'liblinear'}\n",
      ">acc=0.730, est=0.727, cfg={'C': 0.004832930238571752, 'penalty': 'l1', 'solver': 'liblinear'}\n",
      ">acc=0.660, est=0.730, cfg={'C': 0.0006951927961775605, 'penalty': 'l2', 'solver': 'liblinear'}\n",
      ">acc=0.730, est=0.732, cfg={'C': 0.0018329807108324356, 'penalty': 'l2', 'solver': 'liblinear'}\n",
      ">acc=0.720, est=0.723, cfg={'C': 0.004832930238571752, 'penalty': 'l1', 'solver': 'liblinear'}\n",
      "Accuracy Mean (Std): 0.719 (0.040)\n",
      ">acc=0.740, est=0.796, cfg={'C': 0.012742749857031334, 'penalty': 'l2', 'solver': 'liblinear'}\n",
      ">acc=0.800, est=0.784, cfg={'C': 0.0006951927961775605, 'penalty': 'l2', 'solver': 'liblinear'}\n"
     ]
    },
    {
     "name": "stderr",
     "output_type": "stream",
     "text": [
      "C:\\Users\\mrjmf\\anaconda3\\lib\\site-packages\\sklearn\\svm\\_base.py:976: ConvergenceWarning: Liblinear failed to converge, increase the number of iterations.\n",
      "  warnings.warn(\"Liblinear failed to converge, increase \"\n"
     ]
    },
    {
     "name": "stdout",
     "output_type": "stream",
     "text": [
      ">acc=0.800, est=0.780, cfg={'C': 1438.44988828766, 'penalty': 'l1', 'solver': 'liblinear'}\n",
      ">acc=0.740, est=0.776, cfg={'C': 0.03359818286283781, 'penalty': 'l2', 'solver': 'liblinear'}\n",
      ">acc=0.780, est=0.762, cfg={'C': 0.0018329807108324356, 'penalty': 'l2', 'solver': 'liblinear'}\n",
      ">acc=0.760, est=0.784, cfg={'C': 0.004832930238571752, 'penalty': 'l2', 'solver': 'liblinear'}\n"
     ]
    },
    {
     "name": "stderr",
     "output_type": "stream",
     "text": [
      "C:\\Users\\mrjmf\\anaconda3\\lib\\site-packages\\sklearn\\svm\\_base.py:976: ConvergenceWarning: Liblinear failed to converge, increase the number of iterations.\n",
      "  warnings.warn(\"Liblinear failed to converge, increase \"\n"
     ]
    },
    {
     "name": "stdout",
     "output_type": "stream",
     "text": [
      ">acc=0.840, est=0.789, cfg={'C': 206.913808111479, 'penalty': 'l1', 'solver': 'liblinear'}\n"
     ]
    },
    {
     "name": "stderr",
     "output_type": "stream",
     "text": [
      "C:\\Users\\mrjmf\\anaconda3\\lib\\site-packages\\sklearn\\svm\\_base.py:976: ConvergenceWarning: Liblinear failed to converge, increase the number of iterations.\n",
      "  warnings.warn(\"Liblinear failed to converge, increase \"\n"
     ]
    },
    {
     "name": "stdout",
     "output_type": "stream",
     "text": [
      ">acc=0.860, est=0.764, cfg={'C': 78.47599703514607, 'penalty': 'l1', 'solver': 'liblinear'}\n",
      ">acc=0.760, est=0.776, cfg={'C': 0.012742749857031334, 'penalty': 'l2', 'solver': 'liblinear'}\n",
      ">acc=0.720, est=0.789, cfg={'C': 0.0018329807108324356, 'penalty': 'l2', 'solver': 'liblinear'}\n",
      "Accuracy Mean (Std): 0.780 (0.043)\n",
      "Confusion Matrix for Logistic Regression on imputed values for the last iteration: \n",
      " [[45  9]\n",
      " [19 27]]\n"
     ]
    }
   ],
   "source": [
    "logistic_regression, y_test, y_pred = logistic_regression_fit(data_P2)\n",
    "logistic_regression_dropped, _, _ = logistic_regression_fit(data_P2_dropped)\n",
    "print(\"Confusion Matrix for Logistic Regression on imputed values for the last iteration: \\n\", confusion_matrix(y_test, y_pred))"
   ]
  },
  {
   "cell_type": "markdown",
   "metadata": {},
   "source": [
    "### running the defined functions in the previous cells"
   ]
  },
  {
   "cell_type": "code",
   "execution_count": 47,
   "metadata": {},
   "outputs": [
    {
     "name": "stdout",
     "output_type": "stream",
     "text": [
      ">acc=0.780, est=0.722, cfg={'C': 1000.0, 'gamma': 1e-07}\n",
      ">acc=0.630, est=0.717, cfg={'C': 1.0, 'gamma': 1e-07}\n",
      ">acc=0.700, est=0.720, cfg={'C': 0.1, 'gamma': 1e-07}\n",
      ">acc=0.680, est=0.713, cfg={'C': 0.1, 'gamma': 1e-07}\n",
      ">acc=0.770, est=0.707, cfg={'C': 100.0, 'gamma': 1e-07}\n",
      ">acc=0.700, est=0.714, cfg={'C': 1000.0, 'gamma': 1e-07}\n",
      ">acc=0.720, est=0.721, cfg={'C': 1000.0, 'gamma': 1e-07}\n",
      ">acc=0.630, est=0.711, cfg={'C': 1000.0, 'gamma': 1e-07}\n",
      ">acc=0.740, est=0.719, cfg={'C': 0.1, 'gamma': 1e-07}\n",
      ">acc=0.720, est=0.716, cfg={'C': 10.0, 'gamma': 1e-07}\n",
      "Accuracy Mean (Std): 0.707 (0.048)\n",
      ">acc=0.820, est=0.773, cfg={'C': 100.0, 'gamma': 1e-07}\n",
      ">acc=0.760, est=0.773, cfg={'C': 0.1, 'gamma': 1e-07}\n",
      ">acc=0.640, est=0.760, cfg={'C': 100.0, 'gamma': 1e-07}\n",
      ">acc=0.800, est=0.758, cfg={'C': 1.0, 'gamma': 1e-07}\n",
      ">acc=0.780, est=0.762, cfg={'C': 10.0, 'gamma': 1e-07}\n",
      ">acc=0.700, est=0.776, cfg={'C': 0.1, 'gamma': 1e-07}\n",
      ">acc=0.860, est=0.769, cfg={'C': 100.0, 'gamma': 1e-07}\n",
      ">acc=0.820, est=0.753, cfg={'C': 1.0, 'gamma': 1e-07}\n",
      ">acc=0.680, est=0.773, cfg={'C': 0.1, 'gamma': 1e-07}\n",
      ">acc=0.680, est=0.767, cfg={'C': 10.0, 'gamma': 1e-07}\n",
      "Accuracy Mean (Std): 0.754 (0.070)\n",
      "Confusion Matrix for Linear SVM on imputed values for the last iteration: \n",
      " [[42 12]\n",
      " [16 30]]\n"
     ]
    }
   ],
   "source": [
    "linear_svm, y_test, y_pred = linear_svm_fit(data_P2)\n",
    "linear_svm_dropped,_ , _ = linear_svm_fit(data_P2_dropped)\n",
    "print(\"Confusion Matrix for Linear SVM on imputed values for the last iteration: \\n\", confusion_matrix(y_test, y_pred))"
   ]
  },
  {
   "cell_type": "code",
   "execution_count": 48,
   "metadata": {},
   "outputs": [
    {
     "name": "stdout",
     "output_type": "stream",
     "text": [
      ">acc=0.470, est=0.556, cfg={'var_smoothing': 0.0}\n",
      ">acc=0.580, est=0.557, cfg={'var_smoothing': 0.0}\n",
      ">acc=0.580, est=0.551, cfg={'var_smoothing': 0.0}\n",
      ">acc=0.700, est=0.614, cfg={'var_smoothing': 31.65829145728643}\n",
      ">acc=0.560, est=0.547, cfg={'var_smoothing': 0.0}\n",
      ">acc=0.550, est=0.549, cfg={'var_smoothing': 90.45226130653265}\n",
      ">acc=0.440, est=0.559, cfg={'var_smoothing': 0.0}\n",
      ">acc=0.650, est=0.718, cfg={'var_smoothing': 8.542713567839195}\n",
      ">acc=0.480, est=0.552, cfg={'var_smoothing': 12.060301507537687}\n",
      ">acc=0.460, est=0.558, cfg={'var_smoothing': 10.050251256281406}\n",
      "Accuracy Mean (Std): 0.547 (0.081)\n",
      "Confusion Matrix for the Naive Bayes Model on imputed values for the last iteration: \n",
      " [[ 0 54]\n",
      " [ 0 46]]\n"
     ]
    }
   ],
   "source": [
    "g, test, pred= GaussianNb(data_P2)\n",
    "print(\"Confusion Matrix for the Naive Bayes Model on imputed values for the last iteration: \\n\", confusion_matrix(test, pred))"
   ]
  },
  {
   "cell_type": "code",
   "execution_count": 49,
   "metadata": {},
   "outputs": [
    {
     "name": "stdout",
     "output_type": "stream",
     "text": [
      ">acc=0.820, est=0.876, cfg={'criterion': 'entropy', 'max_depth': 5, 'splitter': 'best'}\n",
      ">acc=0.860, est=0.866, cfg={'criterion': 'entropy', 'max_depth': 5, 'splitter': 'best'}\n",
      ">acc=0.890, est=0.878, cfg={'criterion': 'entropy', 'max_depth': 5, 'splitter': 'best'}\n",
      ">acc=0.870, est=0.846, cfg={'criterion': 'gini', 'max_depth': 5, 'splitter': 'best'}\n",
      ">acc=0.870, est=0.850, cfg={'criterion': 'entropy', 'max_depth': 5, 'splitter': 'best'}\n",
      ">acc=0.890, est=0.870, cfg={'criterion': 'entropy', 'max_depth': 5, 'splitter': 'best'}\n",
      ">acc=0.850, est=0.854, cfg={'criterion': 'gini', 'max_depth': 6, 'splitter': 'best'}\n",
      ">acc=0.880, est=0.864, cfg={'criterion': 'gini', 'max_depth': 5, 'splitter': 'best'}\n",
      ">acc=0.820, est=0.869, cfg={'criterion': 'entropy', 'max_depth': 5, 'splitter': 'best'}\n",
      ">acc=0.840, est=0.863, cfg={'criterion': 'gini', 'max_depth': 5, 'splitter': 'best'}\n",
      "Accuracy Mean (Std): 0.859 (0.025)\n",
      ">acc=0.840, est=0.778, cfg={'criterion': 'entropy', 'max_depth': 6, 'splitter': 'best'}\n",
      ">acc=0.840, est=0.796, cfg={'criterion': 'entropy', 'max_depth': 4, 'splitter': 'best'}\n",
      ">acc=0.780, est=0.780, cfg={'criterion': 'entropy', 'max_depth': 5, 'splitter': 'best'}\n",
      ">acc=0.680, est=0.816, cfg={'criterion': 'entropy', 'max_depth': 8, 'splitter': 'best'}\n",
      ">acc=0.740, est=0.816, cfg={'criterion': 'entropy', 'max_depth': 4, 'splitter': 'best'}\n",
      ">acc=0.720, est=0.798, cfg={'criterion': 'entropy', 'max_depth': 9, 'splitter': 'best'}\n",
      ">acc=0.900, est=0.789, cfg={'criterion': 'entropy', 'max_depth': 6, 'splitter': 'best'}\n",
      ">acc=0.840, est=0.793, cfg={'criterion': 'entropy', 'max_depth': 4, 'splitter': 'best'}\n",
      ">acc=0.720, est=0.793, cfg={'criterion': 'entropy', 'max_depth': 5, 'splitter': 'best'}\n",
      ">acc=0.740, est=0.800, cfg={'criterion': 'entropy', 'max_depth': 5, 'splitter': 'best'}\n",
      "Accuracy Mean (Std): 0.780 (0.068)\n",
      "Confusion Matrix for Decision Tree on imputed values for the last iteration: \n",
      " [[40 14]\n",
      " [ 2 44]]\n"
     ]
    },
    {
     "data": {
      "text/plain": [
       "DecisionTreeClassifier(max_depth=5, random_state=1)"
      ]
     },
     "execution_count": 49,
     "metadata": {},
     "output_type": "execute_result"
    }
   ],
   "source": [
    "decision_tree, y_test, y_pred = decision_tree_fit(data_P2)\n",
    "decision_tree_dropped,_ , _ = decision_tree_fit(data_P2_dropped)\n",
    "print(\"Confusion Matrix for Decision Tree on imputed values for the last iteration: \\n\", confusion_matrix(y_test, y_pred))\n",
    "decision_tree"
   ]
  },
  {
   "cell_type": "markdown",
   "metadata": {},
   "source": [
    "### generating graph of the decision tree model"
   ]
  },
  {
   "cell_type": "code",
   "execution_count": 50,
   "metadata": {},
   "outputs": [
    {
     "data": {
      "text/plain": [
       "'tree.pdf'"
      ]
     },
     "execution_count": 50,
     "metadata": {},
     "output_type": "execute_result"
    }
   ],
   "source": [
    "dot_data = tree.export_graphviz(decision_tree, out_file= None) \n",
    "graph = graphviz.Source(dot_data)\n",
    "graph.render(\"tree\")"
   ]
  },
  {
   "cell_type": "code",
   "execution_count": 51,
   "metadata": {},
   "outputs": [
    {
     "name": "stdout",
     "output_type": "stream",
     "text": [
      "Attribute F21 has 500 number of null values\n",
      "There is no null value anymore\n"
     ]
    }
   ],
   "source": [
    "test_df = pd.read_csv('CE802_P2_Test.csv')\n",
    "# Make sure you work on a copy\n",
    "test_data = test_df.iloc[:,:-1].copy()\n",
    "test_data_dropped = drop_null_values(test_data)\n",
    "test_data = imputation(test_data)\n",
    "predicted = decision_tree.predict(test_data)\n",
    "predicted_dropped = decision_tree_dropped.predict(test_data_dropped) # using the model to produce the result for the null-dropped dataframe\n",
    "test_df_dropped = test_data_dropped\n",
    "# Replace the last (empty) column with your prediction\n",
    "test_df.iloc[:,-1] = predicted\n",
    "test_df_dropped.iloc[:,-1] = predicted_dropped\n",
    "# Save to the destination file\n",
    "test_df.to_csv('CE802_P2_Test_Predictions.csv', index=False, float_format='%.8g')\n",
    "test_df_dropped.to_csv('CE802_P2_Test_Predictions_dropped.csv', index=False, float_format='%.8g') #Save to the destination file for null-dropped dataframe\n",
    "# IMPORTANT!! Make sure only the last column has changed\n",
    "assert pd.read_csv('CE802_P2_Test.csv').iloc[:,:-1].equals(pd.read_csv('CE802_P2_Test_Predictions.csv').iloc[:,:-1])"
   ]
  },
  {
   "cell_type": "code",
   "execution_count": null,
   "metadata": {},
   "outputs": [],
   "source": []
  },
  {
   "cell_type": "code",
   "execution_count": null,
   "metadata": {},
   "outputs": [],
   "source": []
  }
 ],
 "metadata": {
  "kernelspec": {
   "display_name": "Python 3",
   "language": "python",
   "name": "python3"
  },
  "language_info": {
   "codemirror_mode": {
    "name": "ipython",
    "version": 3
   },
   "file_extension": ".py",
   "mimetype": "text/x-python",
   "name": "python",
   "nbconvert_exporter": "python",
   "pygments_lexer": "ipython3",
   "version": "3.8.8"
  }
 },
 "nbformat": 4,
 "nbformat_minor": 4
}
