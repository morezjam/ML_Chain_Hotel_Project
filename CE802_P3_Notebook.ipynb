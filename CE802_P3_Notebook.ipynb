{
 "cells": [
  {
   "cell_type": "markdown",
   "metadata": {},
   "source": [
    "### Part A"
   ]
  },
  {
   "cell_type": "code",
   "execution_count": 64,
   "metadata": {},
   "outputs": [],
   "source": [
    "# HERE YOU WILL WRITE CODE TO TEST A NUMBER OF PREDICTORS\n",
    "# AND FINALLY CHOOSE AND TRAIN THE PREDICTOR THAT YOU WILL BE USING FOR PART B\n",
    "import numpy as np\n",
    "import pandas as pd\n",
    "import matplotlib.pyplot as plt\n",
    "import seaborn as sn\n",
    "from sklearn.model_selection import KFold\n",
    "from sklearn.model_selection import GridSearchCV\n",
    "from sklearn.preprocessing import QuantileTransformer\n",
    "from sklearn.compose import TransformedTargetRegressor\n",
    "import lightgbm as lgbm\n",
    "from sklearn.linear_model import LinearRegression\n",
    "from sklearn.ensemble import RandomForestRegressor\n",
    "from sklearn.linear_model import Ridge\n",
    "from sklearn.neighbors import KNeighborsRegressor\n",
    "from sklearn.tree import DecisionTreeRegressor\n",
    "from sklearn.metrics import mean_absolute_error\n",
    "from sklearn.metrics import mean_squared_error"
   ]
  },
  {
   "cell_type": "code",
   "execution_count": 65,
   "metadata": {},
   "outputs": [
    {
     "data": {
      "text/html": [
       "<div>\n",
       "<style scoped>\n",
       "    .dataframe tbody tr th:only-of-type {\n",
       "        vertical-align: middle;\n",
       "    }\n",
       "\n",
       "    .dataframe tbody tr th {\n",
       "        vertical-align: top;\n",
       "    }\n",
       "\n",
       "    .dataframe thead th {\n",
       "        text-align: right;\n",
       "    }\n",
       "</style>\n",
       "<table border=\"1\" class=\"dataframe\">\n",
       "  <thead>\n",
       "    <tr style=\"text-align: right;\">\n",
       "      <th></th>\n",
       "      <th>F1</th>\n",
       "      <th>F2</th>\n",
       "      <th>F4</th>\n",
       "      <th>F5</th>\n",
       "      <th>F6</th>\n",
       "      <th>F7</th>\n",
       "      <th>F8</th>\n",
       "      <th>F9</th>\n",
       "      <th>F10</th>\n",
       "      <th>F12</th>\n",
       "      <th>...</th>\n",
       "      <th>F28</th>\n",
       "      <th>F29</th>\n",
       "      <th>F30</th>\n",
       "      <th>F31</th>\n",
       "      <th>F32</th>\n",
       "      <th>F33</th>\n",
       "      <th>F34</th>\n",
       "      <th>F35</th>\n",
       "      <th>F36</th>\n",
       "      <th>Target</th>\n",
       "    </tr>\n",
       "  </thead>\n",
       "  <tbody>\n",
       "    <tr>\n",
       "      <th>count</th>\n",
       "      <td>1500.000000</td>\n",
       "      <td>1500.000000</td>\n",
       "      <td>1500.000000</td>\n",
       "      <td>1500.000000</td>\n",
       "      <td>1500.000000</td>\n",
       "      <td>1500.000000</td>\n",
       "      <td>1500.000000</td>\n",
       "      <td>1500.000000</td>\n",
       "      <td>1500.000000</td>\n",
       "      <td>1500.000000</td>\n",
       "      <td>...</td>\n",
       "      <td>1500.000000</td>\n",
       "      <td>1500.000000</td>\n",
       "      <td>1500.000000</td>\n",
       "      <td>1500.000000</td>\n",
       "      <td>1500.000000</td>\n",
       "      <td>1500.000000</td>\n",
       "      <td>1500.000000</td>\n",
       "      <td>1500.000000</td>\n",
       "      <td>1500.000000</td>\n",
       "      <td>1500.000000</td>\n",
       "    </tr>\n",
       "    <tr>\n",
       "      <th>mean</th>\n",
       "      <td>201.687000</td>\n",
       "      <td>17.810507</td>\n",
       "      <td>-20.564893</td>\n",
       "      <td>2247.171820</td>\n",
       "      <td>0.570120</td>\n",
       "      <td>-24564.756680</td>\n",
       "      <td>80.580133</td>\n",
       "      <td>771.265033</td>\n",
       "      <td>9.012940</td>\n",
       "      <td>14.711640</td>\n",
       "      <td>...</td>\n",
       "      <td>1718.007973</td>\n",
       "      <td>313.425980</td>\n",
       "      <td>-6011.743960</td>\n",
       "      <td>3.831493</td>\n",
       "      <td>-34.436927</td>\n",
       "      <td>193.956653</td>\n",
       "      <td>-167.883327</td>\n",
       "      <td>575.845760</td>\n",
       "      <td>3.977333</td>\n",
       "      <td>856.493547</td>\n",
       "    </tr>\n",
       "    <tr>\n",
       "      <th>std</th>\n",
       "      <td>60.705946</td>\n",
       "      <td>86.571331</td>\n",
       "      <td>5.969597</td>\n",
       "      <td>1268.631888</td>\n",
       "      <td>82.215588</td>\n",
       "      <td>8895.299106</td>\n",
       "      <td>58.652866</td>\n",
       "      <td>307.203870</td>\n",
       "      <td>4.158463</td>\n",
       "      <td>8.429871</td>\n",
       "      <td>...</td>\n",
       "      <td>587.903119</td>\n",
       "      <td>89.687119</td>\n",
       "      <td>1299.793173</td>\n",
       "      <td>2.673263</td>\n",
       "      <td>42.300767</td>\n",
       "      <td>60.053084</td>\n",
       "      <td>41.185646</td>\n",
       "      <td>297.557767</td>\n",
       "      <td>1.755812</td>\n",
       "      <td>1222.860406</td>\n",
       "    </tr>\n",
       "    <tr>\n",
       "      <th>min</th>\n",
       "      <td>11.080000</td>\n",
       "      <td>-398.740000</td>\n",
       "      <td>-38.080000</td>\n",
       "      <td>-4686.990000</td>\n",
       "      <td>-382.300000</td>\n",
       "      <td>-55304.730000</td>\n",
       "      <td>-109.660000</td>\n",
       "      <td>-144.700000</td>\n",
       "      <td>-15.570000</td>\n",
       "      <td>-20.480000</td>\n",
       "      <td>...</td>\n",
       "      <td>-135.340000</td>\n",
       "      <td>20.250000</td>\n",
       "      <td>-12701.850000</td>\n",
       "      <td>0.030000</td>\n",
       "      <td>-289.920000</td>\n",
       "      <td>-15.940000</td>\n",
       "      <td>-361.180000</td>\n",
       "      <td>-483.430000</td>\n",
       "      <td>0.000000</td>\n",
       "      <td>-2685.920000</td>\n",
       "    </tr>\n",
       "    <tr>\n",
       "      <th>25%</th>\n",
       "      <td>159.105000</td>\n",
       "      <td>-24.800000</td>\n",
       "      <td>-24.705000</td>\n",
       "      <td>1631.722500</td>\n",
       "      <td>-40.635000</td>\n",
       "      <td>-30709.807500</td>\n",
       "      <td>41.995000</td>\n",
       "      <td>563.642500</td>\n",
       "      <td>6.830000</td>\n",
       "      <td>10.710000</td>\n",
       "      <td>...</td>\n",
       "      <td>1346.575000</td>\n",
       "      <td>253.642500</td>\n",
       "      <td>-6657.345000</td>\n",
       "      <td>1.870000</td>\n",
       "      <td>-55.747500</td>\n",
       "      <td>152.240000</td>\n",
       "      <td>-188.155000</td>\n",
       "      <td>373.057500</td>\n",
       "      <td>3.000000</td>\n",
       "      <td>17.235000</td>\n",
       "    </tr>\n",
       "    <tr>\n",
       "      <th>50%</th>\n",
       "      <td>202.830000</td>\n",
       "      <td>19.110000</td>\n",
       "      <td>-20.510000</td>\n",
       "      <td>2266.380000</td>\n",
       "      <td>0.050000</td>\n",
       "      <td>-24323.145000</td>\n",
       "      <td>79.340000</td>\n",
       "      <td>777.465000</td>\n",
       "      <td>9.120000</td>\n",
       "      <td>14.660000</td>\n",
       "      <td>...</td>\n",
       "      <td>1703.680000</td>\n",
       "      <td>312.030000</td>\n",
       "      <td>-6038.910000</td>\n",
       "      <td>3.265000</td>\n",
       "      <td>-34.815000</td>\n",
       "      <td>193.360000</td>\n",
       "      <td>-167.495000</td>\n",
       "      <td>581.515000</td>\n",
       "      <td>4.000000</td>\n",
       "      <td>624.735000</td>\n",
       "    </tr>\n",
       "    <tr>\n",
       "      <th>75%</th>\n",
       "      <td>240.620000</td>\n",
       "      <td>63.380000</td>\n",
       "      <td>-16.715000</td>\n",
       "      <td>2863.402500</td>\n",
       "      <td>42.350000</td>\n",
       "      <td>-18563.250000</td>\n",
       "      <td>121.805000</td>\n",
       "      <td>980.357500</td>\n",
       "      <td>11.250000</td>\n",
       "      <td>18.920000</td>\n",
       "      <td>...</td>\n",
       "      <td>2108.265000</td>\n",
       "      <td>373.110000</td>\n",
       "      <td>-5348.430000</td>\n",
       "      <td>5.100000</td>\n",
       "      <td>-13.832500</td>\n",
       "      <td>233.905000</td>\n",
       "      <td>-145.720000</td>\n",
       "      <td>776.852500</td>\n",
       "      <td>5.000000</td>\n",
       "      <td>1609.167500</td>\n",
       "    </tr>\n",
       "    <tr>\n",
       "      <th>max</th>\n",
       "      <td>425.520000</td>\n",
       "      <td>381.460000</td>\n",
       "      <td>1.920000</td>\n",
       "      <td>9854.070000</td>\n",
       "      <td>348.000000</td>\n",
       "      <td>8684.250000</td>\n",
       "      <td>270.040000</td>\n",
       "      <td>1630.790000</td>\n",
       "      <td>27.040000</td>\n",
       "      <td>51.540000</td>\n",
       "      <td>...</td>\n",
       "      <td>3909.840000</td>\n",
       "      <td>639.030000</td>\n",
       "      <td>119.100000</td>\n",
       "      <td>18.060000</td>\n",
       "      <td>192.270000</td>\n",
       "      <td>401.260000</td>\n",
       "      <td>31.570000</td>\n",
       "      <td>1537.170000</td>\n",
       "      <td>11.000000</td>\n",
       "      <td>3836.440000</td>\n",
       "    </tr>\n",
       "  </tbody>\n",
       "</table>\n",
       "<p>8 rows × 35 columns</p>\n",
       "</div>"
      ],
      "text/plain": [
       "                F1           F2           F4           F5           F6  \\\n",
       "count  1500.000000  1500.000000  1500.000000  1500.000000  1500.000000   \n",
       "mean    201.687000    17.810507   -20.564893  2247.171820     0.570120   \n",
       "std      60.705946    86.571331     5.969597  1268.631888    82.215588   \n",
       "min      11.080000  -398.740000   -38.080000 -4686.990000  -382.300000   \n",
       "25%     159.105000   -24.800000   -24.705000  1631.722500   -40.635000   \n",
       "50%     202.830000    19.110000   -20.510000  2266.380000     0.050000   \n",
       "75%     240.620000    63.380000   -16.715000  2863.402500    42.350000   \n",
       "max     425.520000   381.460000     1.920000  9854.070000   348.000000   \n",
       "\n",
       "                 F7           F8           F9          F10          F12  ...  \\\n",
       "count   1500.000000  1500.000000  1500.000000  1500.000000  1500.000000  ...   \n",
       "mean  -24564.756680    80.580133   771.265033     9.012940    14.711640  ...   \n",
       "std     8895.299106    58.652866   307.203870     4.158463     8.429871  ...   \n",
       "min   -55304.730000  -109.660000  -144.700000   -15.570000   -20.480000  ...   \n",
       "25%   -30709.807500    41.995000   563.642500     6.830000    10.710000  ...   \n",
       "50%   -24323.145000    79.340000   777.465000     9.120000    14.660000  ...   \n",
       "75%   -18563.250000   121.805000   980.357500    11.250000    18.920000  ...   \n",
       "max     8684.250000   270.040000  1630.790000    27.040000    51.540000  ...   \n",
       "\n",
       "               F28          F29           F30          F31          F32  \\\n",
       "count  1500.000000  1500.000000   1500.000000  1500.000000  1500.000000   \n",
       "mean   1718.007973   313.425980  -6011.743960     3.831493   -34.436927   \n",
       "std     587.903119    89.687119   1299.793173     2.673263    42.300767   \n",
       "min    -135.340000    20.250000 -12701.850000     0.030000  -289.920000   \n",
       "25%    1346.575000   253.642500  -6657.345000     1.870000   -55.747500   \n",
       "50%    1703.680000   312.030000  -6038.910000     3.265000   -34.815000   \n",
       "75%    2108.265000   373.110000  -5348.430000     5.100000   -13.832500   \n",
       "max    3909.840000   639.030000    119.100000    18.060000   192.270000   \n",
       "\n",
       "               F33          F34          F35          F36       Target  \n",
       "count  1500.000000  1500.000000  1500.000000  1500.000000  1500.000000  \n",
       "mean    193.956653  -167.883327   575.845760     3.977333   856.493547  \n",
       "std      60.053084    41.185646   297.557767     1.755812  1222.860406  \n",
       "min     -15.940000  -361.180000  -483.430000     0.000000 -2685.920000  \n",
       "25%     152.240000  -188.155000   373.057500     3.000000    17.235000  \n",
       "50%     193.360000  -167.495000   581.515000     4.000000   624.735000  \n",
       "75%     233.905000  -145.720000   776.852500     5.000000  1609.167500  \n",
       "max     401.260000    31.570000  1537.170000    11.000000  3836.440000  \n",
       "\n",
       "[8 rows x 35 columns]"
      ]
     },
     "execution_count": 65,
     "metadata": {},
     "output_type": "execute_result"
    }
   ],
   "source": [
    "dataP3 = pd.read_csv(\"CE802_P3_Data.csv\")\n",
    "dataP3.describe()"
   ]
  },
  {
   "cell_type": "code",
   "execution_count": 66,
   "metadata": {},
   "outputs": [
    {
     "data": {
      "image/png": "[encoded data removed]",
      "text/plain": [
       "<Figure size 720x720 with 2 Axes>"
      ]
     },
     "metadata": {
      "needs_background": "light"
     },
     "output_type": "display_data"
    }
   ],
   "source": [
    "# describing the correlation of features \n",
    "fig, ax = plt.subplots(figsize=(10,10))\n",
    "sn.heatmap(dataP3.corr(), linewidths=.5, ax=ax)\n",
    "plt.show()"
   ]
  },
  {
   "cell_type": "markdown",
   "metadata": {},
   "source": [
    "### checking null values for a dataframe"
   ]
  },
  {
   "cell_type": "code",
   "execution_count": 67,
   "metadata": {},
   "outputs": [
    {
     "data": {
      "text/plain": [
       "False"
      ]
     },
     "execution_count": 67,
     "metadata": {},
     "output_type": "execute_result"
    }
   ],
   "source": [
    "def check_null_values(data):\n",
    "    r = 0\n",
    "    for col in data.columns:\n",
    "        if data[col].isnull().any():\n",
    "            r = 1\n",
    "            print('Attribute \"{}\" has {} null'.format(col, data[col].isnull().sum()))\n",
    "    return bool(r)\n",
    "check_null_values(dataP3)"
   ]
  },
  {
   "cell_type": "code",
   "execution_count": 68,
   "metadata": {},
   "outputs": [
    {
     "name": "stdout",
     "output_type": "stream",
     "text": [
      "['UK' 'USA' 'Europe' 'Rest']\n",
      "['Very low' 'Medium' 'Low' 'Very high' 'High']\n"
     ]
    }
   ],
   "source": [
    "print(dataP3.F3.unique())\n",
    "print(dataP3.F11.unique())\n",
    "# Handling Nominal variables\n",
    "enc = pd.get_dummies(dataP3.F11)\n",
    "dataP3 = dataP3.join(enc)\n",
    "dataP3.drop(\"F11\", axis = 1, inplace = True)\n",
    "one_hot_enc = pd.get_dummies(dataP3.F3) # one hot encoding\n",
    "dataP3 = dataP3.join(one_hot_enc)\n",
    "dataP3.drop(\"F3\", axis=1, inplace = True)"
   ]
  },
  {
   "cell_type": "markdown",
   "metadata": {},
   "source": [
    "### seperating target attribute from other data"
   ]
  },
  {
   "cell_type": "code",
   "execution_count": 69,
   "metadata": {},
   "outputs": [
    {
     "data": {
      "text/plain": [
       "(1500, 43)"
      ]
     },
     "execution_count": 69,
     "metadata": {},
     "output_type": "execute_result"
    }
   ],
   "source": [
    "def target_split(data):\n",
    "    X = data.loc[:, data.columns != \"Target\"].to_numpy()\n",
    "    y = data.loc[:, data.columns == \"Target\"].to_numpy()\n",
    "    return X, y\n",
    "X, y = target_split(dataP3)\n",
    "X.shape"
   ]
  },
  {
   "cell_type": "markdown",
   "metadata": {},
   "source": [
    "### applying quantile transformer on the data and then "
   ]
  },
  {
   "cell_type": "markdown",
   "metadata": {},
   "source": [
    "\n",
    "### train linear regression model, and evaluate it using K-fold "
   ]
  },
  {
   "cell_type": "code",
   "execution_count": 70,
   "metadata": {},
   "outputs": [],
   "source": [
    "def linear_regression_fit(data):\n",
    "    X, y = target_split(data)\n",
    "    cv = KFold(n_splits = 10, shuffle = True, random_state = 1)\n",
    "    out_results_score = []\n",
    "    out_results_rmse = []\n",
    "    for train_index, test_index in cv.split(X):\n",
    "        X_train, X_test = X[train_index], X[test_index]\n",
    "        y_train, y_test = y[train_index], y[test_index]\n",
    "        model = LinearRegression()\n",
    "        ttr = TransformedTargetRegressor(regressor=model, transformer=QuantileTransformer(output_distribution='normal'))\n",
    "        ttr.fit(X_train, y_train)\n",
    "        score = ttr.score(X_test, y_test)\n",
    "        out_results_score.append(score)\n",
    "        y_pred = ttr.predict(X_test)\n",
    "        rmse = mean_squared_error(y_test, y_pred,squared = False)\n",
    "        out_results_rmse.append(rmse)\n",
    "        mae = mean_absolute_error(y_test, y_pred)\n",
    "        print(\"> Score : %.3f, MAE: %.3f, RMSE: %.3f \"% (score, mae, rmse))\n",
    "    print(\"Average-Score: %.3f, Average-RMSE: %.3f, Score-Std: %.3f, RMSE-Std: %.3f\"%(np.mean(out_results_score), np.mean(out_results_rmse), np.std(out_results_score), np.std(out_results_rmse)))\n",
    "    return ttr, round(score,3), round(rmse,3)"
   ]
  },
  {
   "cell_type": "markdown",
   "metadata": {},
   "source": [
    "### doing the same on random forest, ridge, LGBM and decision tree regressor model"
   ]
  },
  {
   "cell_type": "code",
   "execution_count": 71,
   "metadata": {},
   "outputs": [],
   "source": [
    "def random_forest_fit(data):\n",
    "    X, y = target_split(data)\n",
    "    cv = KFold(n_splits = 10, shuffle = True, random_state = 1)\n",
    "    out_results_score = []\n",
    "    out_results_rmse = []\n",
    "    for train_index, test_index in cv.split(X):\n",
    "        X_train, X_test = X[train_index], X[test_index]\n",
    "        y_train, y_test = y[train_index], y[test_index]\n",
    "        random_forest = RandomForestRegressor(max_depth = 7)\n",
    "        ttr = TransformedTargetRegressor(regressor=random_forest, transformer=QuantileTransformer(output_distribution='normal'))\n",
    "        ttr.fit(X_train, y_train)\n",
    "        score = ttr.score(X_test, y_test)\n",
    "        out_results_score.append(score)\n",
    "        y_pred = ttr.predict(X_test)\n",
    "        rmse = mean_squared_error(y_test, y_pred,squared = False)\n",
    "        out_results_rmse.append(rmse)\n",
    "        mae = mean_absolute_error(y_test, y_pred)\n",
    "        print(\"> Score : %.3f, MAE: %.3f, RMSE: %.3f \"% (score, mae, rmse))\n",
    "    print(\"Average-Score: %.3f, Average-RMSE: %.3f, Score-Std: %.3f, RMSE-Std: %.3f\"%(np.mean(out_results_score), np.mean(out_results_rmse), np.std(out_results_score), np.std(out_results_rmse)))\n",
    "    return ttr, round(score,3), round(rmse,3)"
   ]
  },
  {
   "cell_type": "code",
   "execution_count": 72,
   "metadata": {},
   "outputs": [],
   "source": [
    "def ridge_fit(data):\n",
    "    X, y = target_split(data)\n",
    "    cv = KFold(n_splits = 10, shuffle = True, random_state = 1)\n",
    "    out_results_score = []\n",
    "    out_results_rmse = []\n",
    "    for train_index, test_index in cv.split(X):\n",
    "        X_train, X_test = X[train_index], X[test_index]\n",
    "        y_train, y_test = y[train_index], y[test_index]\n",
    "        ridge_reg = Ridge()\n",
    "        ttr = TransformedTargetRegressor(regressor=ridge_reg, transformer=QuantileTransformer(output_distribution='normal'))\n",
    "        ttr.fit(X_train, y_train)\n",
    "        score = ttr.score(X_test, y_test)\n",
    "        out_results_score.append(score)\n",
    "        y_pred = ttr.predict(X_test)\n",
    "        rmse = mean_squared_error(y_test, y_pred,squared = False)\n",
    "        out_results_rmse.append(rmse)\n",
    "        mae = mean_absolute_error(y_test, y_pred)\n",
    "        print(\"> Score : %.3f, MAE: %.3f, RMSE: %.3f \"% (score, mae, rmse))\n",
    "    print(\"Average-Score: %.3f, Average-RMSE: %.3f, Score-Std: %.3f, RMSE-Std: %.3f\"%(np.mean(out_results_score), np.mean(out_results_rmse), np.std(out_results_score), np.std(out_results_rmse)))\n",
    "    return ttr, round(score,3), round(rmse,3)"
   ]
  },
  {
   "cell_type": "code",
   "execution_count": null,
   "metadata": {},
   "outputs": [],
   "source": []
  },
  {
   "cell_type": "code",
   "execution_count": 73,
   "metadata": {},
   "outputs": [],
   "source": [
    "def LGBM_regression_fit(data):\n",
    "    X, y = target_split(data)\n",
    "    cv = KFold(n_splits = 10, shuffle = True, random_state = 1)\n",
    "    out_results_score = []\n",
    "    out_results_rmse = []\n",
    "    for train_index, test_index in cv.split(X):\n",
    "        X_train, X_test = X[train_index], X[test_index]\n",
    "        y_train, y_test = y[train_index], y[test_index]\n",
    "        lgbm_reg = lgbm.LGBMRegressor()\n",
    "        ttr = TransformedTargetRegressor(regressor=lgbm_reg, transformer=QuantileTransformer(output_distribution='normal'))\n",
    "        ttr.fit(X_train, y_train)\n",
    "        score = ttr.score(X_test, y_test)\n",
    "        out_results_score.append(score)\n",
    "        y_pred = ttr.predict(X_test)\n",
    "        rmse = mean_squared_error(y_test, y_pred,squared = False)\n",
    "        out_results_rmse.append(rmse)\n",
    "        mae = mean_absolute_error(y_test, y_pred)\n",
    "        print(\"> Score : %.3f, MAE: %.3f, RMSE: %.3f \"% (score, mae, rmse))\n",
    "    print(\"Average-Score: %.3f, Average-RMSE: %.3f, Score-Std: %.3f, RMSE-Std: %.3f\"%(np.mean(out_results_score), np.mean(out_results_rmse), np.std(out_results_score), np.std(out_results_rmse)))\n",
    "    return ttr, round(score,3), round(rmse,3)"
   ]
  },
  {
   "cell_type": "markdown",
   "metadata": {},
   "source": [
    "### running the defined functions in previous cells"
   ]
  },
  {
   "cell_type": "code",
   "execution_count": 74,
   "metadata": {},
   "outputs": [
    {
     "name": "stdout",
     "output_type": "stream",
     "text": [
      "> Score : 0.700, MAE: 518.523, RMSE: 676.115 \n",
      "> Score : 0.698, MAE: 501.994, RMSE: 663.459 \n",
      "> Score : 0.723, MAE: 534.853, RMSE: 645.338 \n",
      "> Score : 0.644, MAE: 523.764, RMSE: 699.769 \n",
      "> Score : 0.611, MAE: 575.748, RMSE: 736.354 \n",
      "> Score : 0.642, MAE: 556.711, RMSE: 721.078 \n",
      "> Score : 0.761, MAE: 525.439, RMSE: 665.684 \n",
      "> Score : 0.776, MAE: 443.786, RMSE: 574.433 \n",
      "> Score : 0.686, MAE: 489.418, RMSE: 635.153 \n",
      "> Score : 0.703, MAE: 503.291, RMSE: 661.248 \n",
      "Average-Score: 0.694, Average-RMSE: 667.863, Score-Std: 0.049, RMSE-Std: 43.570\n"
     ]
    }
   ],
   "source": [
    "ridge, score, rmse = ridge_fit(dataP3)"
   ]
  },
  {
   "cell_type": "code",
   "execution_count": 75,
   "metadata": {},
   "outputs": [
    {
     "name": "stdout",
     "output_type": "stream",
     "text": [
      "> Score : 0.701, MAE: 518.321, RMSE: 675.881 \n",
      "> Score : 0.698, MAE: 501.996, RMSE: 663.176 \n",
      "> Score : 0.723, MAE: 534.832, RMSE: 645.475 \n",
      "> Score : 0.644, MAE: 523.724, RMSE: 699.899 \n",
      "> Score : 0.610, MAE: 576.261, RMSE: 736.826 \n",
      "> Score : 0.642, MAE: 556.928, RMSE: 721.066 \n",
      "> Score : 0.761, MAE: 525.137, RMSE: 665.270 \n",
      "> Score : 0.777, MAE: 443.893, RMSE: 574.314 \n",
      "> Score : 0.686, MAE: 489.516, RMSE: 635.307 \n",
      "> Score : 0.703, MAE: 503.422, RMSE: 661.385 \n",
      "Average-Score: 0.694, Average-RMSE: 667.860, Score-Std: 0.050, RMSE-Std: 43.658\n"
     ]
    }
   ],
   "source": [
    "lr, score, rmse = linear_regression_fit(dataP3)"
   ]
  },
  {
   "cell_type": "code",
   "execution_count": 76,
   "metadata": {},
   "outputs": [
    {
     "name": "stdout",
     "output_type": "stream",
     "text": [
      "> Score : 0.876, MAE: 296.539, RMSE: 435.534 \n",
      "> Score : 0.889, MAE: 298.505, RMSE: 401.917 \n",
      "> Score : 0.871, MAE: 311.358, RMSE: 439.802 \n",
      "> Score : 0.848, MAE: 347.722, RMSE: 456.897 \n",
      "> Score : 0.852, MAE: 330.865, RMSE: 454.059 \n",
      "> Score : 0.844, MAE: 328.175, RMSE: 475.656 \n",
      "> Score : 0.862, MAE: 360.517, RMSE: 505.679 \n",
      "> Score : 0.870, MAE: 308.543, RMSE: 438.270 \n",
      "> Score : 0.895, MAE: 273.942, RMSE: 368.032 \n",
      "> Score : 0.894, MAE: 270.467, RMSE: 394.677 \n",
      "Average-Score: 0.870, Average-RMSE: 437.052, Score-Std: 0.018, RMSE-Std: 38.325\n"
     ]
    }
   ],
   "source": [
    "LGBM, score, rmse = LGBM_regression_fit(dataP3)"
   ]
  },
  {
   "cell_type": "code",
   "execution_count": 77,
   "metadata": {},
   "outputs": [
    {
     "name": "stdout",
     "output_type": "stream",
     "text": [
      "> Score : 0.630, MAE: 553.332, RMSE: 751.458 \n",
      "> Score : 0.663, MAE: 509.948, RMSE: 699.999 \n",
      "> Score : 0.652, MAE: 531.774, RMSE: 723.499 \n",
      "> Score : 0.661, MAE: 507.243, RMSE: 682.363 \n",
      "> Score : 0.610, MAE: 576.650, RMSE: 737.499 \n",
      "> Score : 0.620, MAE: 552.704, RMSE: 742.266 \n",
      "> Score : 0.611, MAE: 604.173, RMSE: 849.106 \n",
      "> Score : 0.664, MAE: 517.124, RMSE: 704.340 \n",
      "> Score : 0.678, MAE: 496.134, RMSE: 642.764 \n",
      "> Score : 0.714, MAE: 489.483, RMSE: 648.839 \n",
      "Average-Score: 0.650, Average-RMSE: 718.213, Score-Std: 0.031, RMSE-Std: 56.153\n"
     ]
    }
   ],
   "source": [
    "randomForest, score, rmse = random_forest_fit(dataP3)"
   ]
  },
  {
   "cell_type": "markdown",
   "metadata": {},
   "source": [
    "### Part B"
   ]
  },
  {
   "cell_type": "code",
   "execution_count": 78,
   "metadata": {},
   "outputs": [],
   "source": [
    "# HERE YOU WILL USE THIS TEMPLATE TO SAVE THE PREDICTIONS ON THE TEST SET\n",
    "\n",
    "# Load the test data\n",
    "test_df = pd.read_csv('CE802_P3_Test.csv')\n",
    "\n",
    "# Make sure you work on a copy\n",
    "test_data = test_df.iloc[:,:-1].copy()\n",
    "\n",
    "enc = pd.get_dummies(test_data.F3)\n",
    "test_data = test_data.join(enc)\n",
    "test_data.drop(\"F3\", axis = 1, inplace = True)\n",
    "\n",
    "enc = pd.get_dummies(test_data.F11)\n",
    "test_data = test_data.join(enc)\n",
    "test_data.drop(\"F11\", axis = 1, inplace = True)\n",
    "\n",
    "predicted = LGBM.predict(test_data)\n",
    "\n",
    "# Replace the last (empty) column with your prediction\n",
    "test_df.iloc[:,-1] = predicted\n",
    "\n",
    "# Save to the destination file\n",
    "test_df.to_csv('CE802_P3_Test_Predictions.csv', index=False, float_format='%.8g')\n",
    "\n",
    "# IMPORTANT!! Make sure only the last column has changed\n",
    "assert pd.read_csv('CE802_P3_Test.csv').iloc[:,:-1].equals(pd.read_csv('CE802_P3_Test_Predictions.csv').iloc[:,:-1])"
   ]
  },
  {
   "cell_type": "code",
   "execution_count": null,
   "metadata": {},
   "outputs": [],
   "source": []
  },
  {
   "cell_type": "code",
   "execution_count": null,
   "metadata": {},
   "outputs": [],
   "source": []
  }
 ],
 "metadata": {
  "kernelspec": {
   "display_name": "Python 3",
   "language": "python",
   "name": "python3"
  },
  "language_info": {
   "codemirror_mode": {
    "name": "ipython",
    "version": 3
   },
   "file_extension": ".py",
   "mimetype": "text/x-python",
   "name": "python",
   "nbconvert_exporter": "python",
   "pygments_lexer": "ipython3",
   "version": "3.8.8"
  }
 },
 "nbformat": 4,
 "nbformat_minor": 4
}
